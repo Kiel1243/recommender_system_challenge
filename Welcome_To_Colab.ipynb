{
  "cells": [
    {
      "cell_type": "markdown",
      "metadata": {
        "id": "view-in-github",
        "colab_type": "text"
      },
      "source": [
        "<a href=\"https://colab.research.google.com/github/Kiel1243/recommender_system_challenge/blob/master/Welcome_To_Colab.ipynb\" target=\"_parent\"><img src=\"https://colab.research.google.com/assets/colab-badge.svg\" alt=\"Open In Colab\"/></a>"
      ]
    },
    {
      "cell_type": "markdown",
      "source": [
        "# Recommendation Systems **bold text**"
      ],
      "metadata": {
        "id": "KacvJlYh1heQ"
      }
    },
    {
      "cell_type": "code",
      "source": [
        "import numpy as np\n",
        "from lightfm.datasets import fetch_movielens\n",
        "from lightfm import LightFM\n"
      ],
      "metadata": {
        "id": "g6JrlpkD10sJ"
      },
      "execution_count": 12,
      "outputs": []
    },
    {
      "cell_type": "code",
      "source": [
        "data = fetch_movielens()\n",
        "\n"
      ],
      "metadata": {
        "id": "KtObO-5v3X03"
      },
      "execution_count": 18,
      "outputs": []
    },
    {
      "cell_type": "code",
      "source": [
        "print(data['item_labels'][:10])  # Check the first 10 entries\n"
      ],
      "metadata": {
        "id": "j1BQTsLV5hAu",
        "outputId": "cd65b5b1-8276-4a10-ebb1-d398997baa08",
        "colab": {
          "base_uri": "https://localhost:8080/"
        }
      },
      "execution_count": 24,
      "outputs": [
        {
          "output_type": "stream",
          "name": "stdout",
          "text": [
            "['T' 'G' 'F' 'G' 'C' 'S' 'T' 'B' 'D' 'R']\n"
          ]
        }
      ]
    },
    {
      "cell_type": "code",
      "source": [],
      "metadata": {
        "id": "m2Ao-iQr3Xwl"
      },
      "execution_count": null,
      "outputs": []
    },
    {
      "cell_type": "code",
      "source": [
        "#fetch data and format it\n",
        "data = fetch_movielens(min_rating=4.0)\n",
        "# print training and testing data\n",
        "print(repr(data['train']))\n",
        "print(repr(data['test']))\n",
        "# create a mode\n",
        "model = LightFM(loss='warp')\n",
        "# train model\n",
        "model.fit(data['train'], epochs=30, num_threads=2)\n",
        "\n",
        "def sample_recommendation(mode, data,user_ids):\n",
        "  # number of users and movies in training data\n",
        "  n_users, n_items = data['train'].shape\n",
        "  #generate recommendations for each user we input\n",
        "  for user_id in user_ids:\n",
        "    # movies they already like\n",
        "    known_positives = data['item_labels'][data['train'].tocsr()[user_id].indices]\n",
        "    # movies our model predicts they will like\n",
        "    scores = model.predict(user_id, np.arange(n_items))\n",
        "    #rank then in order of most liked to leat\n",
        "    top_items = data['item_labels'][np.argsort(-scores)]\n",
        "    # print out the results\n",
        "    print(\"User %s\" % user_id)\n",
        "    print(\"     Known positives:\")\n",
        "\n",
        "    for x in known_positives[:3]:\n",
        "      print(\"        %s\" % x)\n",
        "\n",
        "\n",
        "    print(\"     Recommended:\")\n",
        "\n",
        "    for x in top_items[:3]:\n",
        "      print(\"        %s\" % x)\n",
        "\n",
        "sample_recommendation(model,data,[3, 25,450])\n"
      ],
      "metadata": {
        "id": "fmSpxzTC1kng",
        "outputId": "6d724d9d-6b19-4d5f-864d-9bd2081cbb31",
        "colab": {
          "base_uri": "https://localhost:8080/"
        }
      },
      "execution_count": 25,
      "outputs": [
        {
          "output_type": "stream",
          "name": "stdout",
          "text": [
            "<943x1682 sparse matrix of type '<class 'numpy.int32'>'\n",
            "\twith 49906 stored elements in COOrdinate format>\n",
            "<943x1682 sparse matrix of type '<class 'numpy.int32'>'\n",
            "\twith 5469 stored elements in COOrdinate format>\n",
            "User 3\n",
            "     Known positives:\n",
            "        S\n",
            "        C\n",
            "        S\n",
            "     Recommended:\n",
            "        S\n",
            "        C\n",
            "        D\n",
            "User 25\n",
            "     Known positives:\n",
            "        D\n",
            "        S\n",
            "        F\n",
            "     Recommended:\n",
            "        F\n",
            "        E\n",
            "        C\n",
            "User 450\n",
            "     Known positives:\n",
            "        C\n",
            "        G\n",
            "        E\n",
            "     Recommended:\n",
            "        C\n",
            "        S\n",
            "        P\n"
          ]
        }
      ]
    }
  ],
  "metadata": {
    "colab": {
      "name": "Welcome To Colab",
      "provenance": [],
      "include_colab_link": true
    },
    "kernelspec": {
      "display_name": "Python 3",
      "name": "python3"
    }
  },
  "nbformat": 4,
  "nbformat_minor": 0
}